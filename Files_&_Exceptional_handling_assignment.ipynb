{
  "nbformat": 4,
  "nbformat_minor": 0,
  "metadata": {
    "colab": {
      "provenance": []
    },
    "kernelspec": {
      "name": "python3",
      "display_name": "Python 3"
    },
    "language_info": {
      "name": "python"
    }
  },
  "cells": [
    {
      "cell_type": "markdown",
      "source": [
        "# Files & Exceptional handling assignment"
      ],
      "metadata": {
        "id": "qSRJW5uymZIq"
      }
    },
    {
      "cell_type": "markdown",
      "source": [
        "1. What is the difference between interpreted and compiled languages?\n",
        "   - The main difference is that compiled languages translate their entire source code into machine-readable machine code before execution, whereas interpreted languages execute the source code line by line using an interpreter program at runtime. Compiled languages generally run faster due to this pre-processing but require a recompilation step for any code changes, while interpreted languages offer faster development with interactive execution and immediate modification, but at the cost of slower runtime performance.  \n",
        "Here's a breakdown of the key differences:\n",
        "Compiled Languages\n",
        "Process: The entire source code is translated into machine code (an executable file) by a compiler before the program can be run.\n",
        "Execution: Once compiled, the machine code can be directly executed by the computer's CPU.\n",
        "Speed: Generally run faster because the translation to machine code is done once and ahead of time.\n",
        "Error Detection: Errors are caught during the compilation phase, leading to more stable, error-free execution at runtime.\n",
        "Flexibility: Less flexible for on-the-fly modifications; any change requires a full re-compilation cycle.\n",
        "Examples: C++, Go, Rust.\n",
        "Interpreted Languages\n",
        "Process: An interpreter program reads and executes the source code one line or statement at a time during runtime.\n",
        "Execution: The interpreter directly translates and runs the code on the fly, without creating a separate executable file.\n",
        "Speed: Slower than compiled programs because the translation and execution happen concurrently for each line of code.\n",
        "Error Detection: Errors are found during execution as the interpreter encounters them.\n",
        "Flexibility: Highly flexible for development, allowing for quick testing, debugging, and modification of code without a lengthy build process.\n",
        "Examples: Python, JavaScript, Ruby.\n",
        "Key Considerations\n",
        "Performance vs. Flexibility: Compiled languages prioritize raw execution speed, while interpreted languages prioritize development speed and flexibility.\n",
        "Cross-Platform Compatibility: Compiled executables are often platform-specific, while interpreted code can be more portable as long as the correct interpreter is available on the target system.\n",
        "The \"Blurred Line\": In practice, many languages, like Java, are a hybrid, with Just-In-Time (JIT) compilation converting bytecode into machine code at runtime, blurring the traditional definition.\n",
        "\n",
        "2. What is exception handling in Python?\n",
        "   - Exception handling in Python is a mechanism that allows programs to gracefully manage runtime errors, known as exceptions, that can disrupt the normal flow of execution. Instead of crashing abruptly when an unexpected situation occurs, exception handling enables the program to detect these errors and execute specific code to respond to them, ensuring robustness and a better user experience.\n",
        "Key components of exception handling in Python:\n",
        "try block: This block contains the code that is likely to raise an exception.\n",
        "except block: This block defines the code that will be executed if a specific exception (or any exception, if not specified) occurs within the corresponding try block. You can catch different types of exceptions using multiple except blocks.\n",
        "else block (optional): This block executes only if no exception occurs within the try block.\n",
        "finally block (optional): This block always executes, regardless of whether an exception occurred or not. It is commonly used for cleanup operations, such as closing files or releasing resources.\n",
        "raise statement: This statement allows you to explicitly raise an exception, either built-in or custom-defined.\n",
        "\n",
        "3. What is the purpose of the finally block in exception handling?\n",
        "   - The primary purpose of a finally block is to execute critical cleanup code that must run regardless of whether an exception occurred or was caught in the try block. This ensures that resources like database connections, file streams, or network sockets are properly closed or released, preventing resource leaks and maintaining program stability, even if an error happens.\n",
        "Key Functions of a finally Block:\n",
        "Resource Cleanup: The most common use is for releasing resources (e.g., closing files, database connections) to prevent leaks.\n",
        "Guaranteed Execution: The code inside the finally block will always execute, whether the try block completes successfully, throws an exception that is caught, or even throws an uncaught exception.\n",
        "Ensuring Code Completes: It guarantees that necessary cleanup actions are performed even if the code within the try or catch blocks attempts to return, break, or continue.\n",
        "\n",
        "4. What is logging in Python?\n",
        "   - Logging in Python is a mechanism for tracking events that occur while software is running. It involves adding calls to the code to indicate that certain events have happened, providing valuable insights into the program's execution, errors, and usage patterns.\n",
        "The core of Python's logging functionality is provided by the built-in logging module, which offers a flexible framework for generating and managing log messages.\n",
        "Key components of Python's logging:\n",
        "Loggers: These are the entry points for emitting log messages. You create named loggers (e.g., logging.getLogger(\"my_application\")) and then use their methods to log messages at different severity levels.\n",
        "Log Levels: Log levels indicate the severity or importance of an event. Common levels include:\n",
        "DEBUG: Detailed information, typically of interest only when diagnosing problems.\n",
        "INFO: Confirmation that things are working as expected.\n",
        "WARNING: An indication that something unexpected happened, or indicative of some problem in the near future.\n",
        "ERROR: Due to a more serious problem, the software has not been able to perform some function.\n",
        "CRITICAL: A serious error, indicating that the program itself may be unable to continue running.\n",
        "Handlers: Handlers are responsible for sending log messages to specific destinations. Examples include:\n",
        "StreamHandler: Sends messages to console output (e.g., sys.stdout or sys.stderr).\n",
        "FileHandler: Writes messages to a file.\n",
        "SMTPHandler: Sends messages via email.\n",
        "Formatters: Formatters define the structure and content of log messages. They allow you to customize how log records are rendered as text, including elements like timestamps, log levels, logger names, and the actual message content.\n",
        "How it works:\n",
        "When a log message is emitted through a logger, it's processed internally as a LogRecord object. This LogRecord is then passed to any handlers registered with that logger. Each handler uses a formatter to convert the LogRecord into a formatted string, which is then sent to its designated output (e.g., printed to the console, written to a file).\n",
        "\n",
        "5. What is the significance of the __del__ method in Python?\n",
        "   - The __del__ method in Python, often referred to as a destructor, holds significance primarily in managing resource cleanup when an object is about to be destroyed.\n",
        "Here's a breakdown of its significance:\n",
        "Resource Management: The primary purpose of __del__ is to perform cleanup operations when an object is no longer referenced and is being garbage collected. This is crucial for releasing external resources held by the object, such as:\n",
        "Closing open file handles.\n",
        "Releasing network connections.\n",
        "Unlocking system resources or mutexes.\n",
        "Deallocating memory managed by external C libraries.\n",
        "Automatic Invocation: Unlike regular methods, __del__ is not called explicitly by the programmer. Instead, the Python interpreter automatically invokes it when an object's reference count drops to zero, indicating that the object is no longer accessible and can be garbage collected.\n",
        "Preventing Resource Leaks: By ensuring that resources are properly released when an object is destroyed, __del__ helps prevent resource leaks, which can lead to performance degradation or system instability in long-running applications.\n",
        "Limitations and Considerations:\n",
        "Non-Deterministic Execution: The exact timing of __del__ execution is not guaranteed. Python's garbage collector determines when objects are actually destroyed, and this can be non-deterministic, especially in cases of circular references where objects might not be immediately collected.\n",
        "Not for Critical Cleanup: Due to the non-deterministic nature of its execution, __del__ should not be relied upon for critical cleanup tasks where immediate resource release is essential. For such scenarios, context managers (using with statements) are a more robust and recommended approach.\n",
        "Exceptions in __del__: Exceptions raised within the __del__ method are typically ignored by the interpreter, which can lead to silent failures and make debugging challenging.\n",
        "In summary, __del__ is a powerful tool for managing resource cleanup in Python, but its use requires careful consideration of its non-deterministic nature and potential for silent failures. For critical resource management, explicit cleanup mechanisms like context managers are generally preferred.\n",
        "\n",
        "6. What is the difference between import and from ... import in Python?\n",
        "   - In Python, both import and from ... import statements are used to bring modules or specific components from modules into the current namespace, but they differ in how they manage the imported objects and their accessibility.\n",
        "   1. import module_name:\n",
        "This statement imports the entire module_name and makes it available as a module object in the current namespace.\n",
        "To access any function, class, or variable within the module, you must prefix it with the module name and a dot (e.g., module_name.function_name(), module_name.variable).\n",
        "  2. from module_name import object_name:\n",
        "This statement imports only a specific object_name (function, class, or variable) from module_name directly into the current namespace.\n",
        "You can then use object_name directly without needing to prefix it with the module name.\n",
        "Key Differences Summarized:\n",
        "Namespace Management: import brings the entire module object into the namespace, requiring qualification for its members. from ... import brings specific members directly into the namespace, allowing direct use without qualification.\n",
        "Readability and Conciseness: from ... import can lead to more concise code when frequently using specific members of a module, as it eliminates the need for repeated module prefixes. However, import can improve clarity by explicitly showing the origin of each function or variable.\n",
        "Naming Conflicts: Using from ... import (especially with from module import *) can increase the risk of naming conflicts if you import multiple objects with the same name from different modules or if they conflict with existing names in your current scope. import reduces this risk as all module members are accessed through the unique module object.\n",
        "Memory Usage: While from ... import might seem like it only loads a part of the module, Python still loads the entire module into memory regardless of the import method. The difference lies in what names are added to your current namespace.\n",
        "\n",
        "7. How can you handle multiple exceptions in Python?\n",
        "   - In Python, multiple exceptions can be handled in several ways:\n",
        "   1. Using a single except block with a tuple of exception types:\n",
        "This is the most common and recommended approach when you want to handle multiple specific exceptions with the same block of code.\n",
        "   2. Using multiple except blocks:\n",
        "If you need to handle different exceptions with different blocks of code, you can use separate except blocks for each exception type.\n",
        "   3. Using a parent exception class:\n",
        "You can catch a broader range of exceptions by catching a parent exception class, such as Exception. This will catch any exception that inherits from the specified parent class.\n",
        "\n",
        "8. What is the purpose of the with statement when handling files in Python?\n",
        "   - The purpose of the with statement when handling files in Python is to ensure proper resource management, specifically guaranteeing that the file is automatically closed after its use, even if errors occur.\n",
        "Here's a breakdown of its benefits:\n",
        "Automatic Resource Management: The with statement simplifies file handling by automatically managing the opening and closing of files. When the with block is entered, the file is opened, and when the block is exited (either normally or due to an exception), the file is automatically closed. This eliminates the need for explicitly calling file.close().\n",
        "Guaranteed Cleanup: This automatic closing mechanism is crucial for preventing resource leaks and potential file corruption. Even if an error or exception occurs within the with block, the file will still be closed properly, ensuring that system resources are released and data integrity is maintained.\n",
        "Improved Readability and Conciseness: The with statement provides a cleaner and more readable way to handle files compared to traditional try-finally blocks that would be required to ensure file closure in the absence of with. It reduces boilerplate code and makes the intent of the code clearer.\n",
        "\n",
        "9. What is the difference between multithreading and multiprocessing?\n",
        "   - Multiprocessing uses multiple independent processes with separate memory spaces, while multithreading uses multiple threads within a single process that share the same memory space. Multiprocessing is ideal for CPU-bound tasks as it allows tasks to run in true parallel on different CPUs, but is resource-intensive. Multithreading is better for I/O-bound tasks and is more lightweight, but may be limited by a Global Interpreter Lock (GIL) (in some languages like Python) to achieve only concurrency, not true parallelism.  \n",
        "\n",
        "10. What are the advantages of using logging in a program?\n",
        "    - Using logging in a program provides critical benefits, including faster debugging and troubleshooting by creating a trail of breadcrumbs, performance monitoring to identify bottlenecks and track trends, enhanced security through auditing and activity tracking, insights for business intelligence and user behavior analysis, support for root cause analysis, and helping to meet compliance and record-keeping requirements.\n",
        "For Debugging and Troubleshooting\n",
        "Trail of Events: Logs act as \"breadcrumbs,\" providing a chronological record of what happened in the application, which is invaluable for finding the root cause of issues after a crash or unexpected behavior.\n",
        "Stack Traces: When an exception occurs, logs capture the full stack trace, showing the exact sequence of method calls leading to the error, making it easier to pinpoint the problematic code.\n",
        "Improved Response: By understanding the problem, teams can resolve issues faster, reducing the Mean Time to Resolution (MTTR).\n",
        "For Performance and Monitoring\n",
        "Performance Monitoring: Logging helps identify slowdowns, timeouts, and other system bottlenecks by providing real-time insights into application behavior and performance metrics like usage times and traffic.\n",
        "Trend Analysis: Log data allows developers to monitor trends over time, helping to optimize the application and understand how changes impact performance.\n",
        "For Security and Compliance\n",
        "Security Auditing: Logs are essential for security, allowing you to monitor for unauthorized access, suspicious activities, and attempted brute-force attacks by recording access and authentication attempts.\n",
        "Compliance: Maintaining logs is often a regulatory requirement in certain industries, making them crucial for meeting compliance standards and providing an audit trail.\n",
        "For Business and User Insights\n",
        "User Behavior: Logging user actions and application usage patterns provides valuable data for understanding how users interact with the application and for making informed business decisions.\n",
        "Business Intelligence: Log data can be extracted and analyzed to generate reports, provide insights into application usage, and support business intelligence initiatives.\n",
        "For Configuration and Management\n",
        "Configurability: Log messages can be categorized (e.g., DEBUG, INFO, ERROR) and filtered, allowing developers to adjust the verbosity of logs for specific parts of an application, preventing information overload.\n",
        "Centralization: In complex systems, especially microservices, centralized logging allows developers to access and manage log data from multiple sources in one place.\n",
        "\n",
        "11. What is memory management in Python?\n",
        "    - Memory management in Python refers to the automatic process of allocating and deallocating memory for objects and data structures used within a Python program. Unlike some other programming languages where manual memory management is required, Python handles this primarily through a combination of a private heap, reference counting, and a garbage collector.\n",
        "Key Components of Python Memory Management:\n",
        "Private Heap: All Python objects and data structures reside in a private heap, which is a dedicated portion of memory managed exclusively by the Python interpreter. The operating system cannot directly allocate this memory to other processes.\n",
        "Reference Counting:\n",
        "Python uses reference counting as a primary mechanism for memory management. Each object in memory has a reference count, which tracks the number of references (variables, data structures, etc.) pointing to it.\n",
        "When an object is created, its reference count is initialized to 1.\n",
        "When a new reference to an object is created (e.g., assigning it to another variable), its reference count increases.\n",
        "When a reference to an object is removed (e.g., variable goes out of scope, reassigned, or explicitly deleted), its reference count decreases.\n",
        "When an object's reference count drops to zero, it means there are no longer any references to that object, making it eligible for deallocation.\n",
        "Garbage Collector:\n",
        "While reference counting handles most memory deallocation, it cannot resolve circular references (where two or more objects refer to each other, preventing their reference counts from ever reaching zero).\n",
        "Python's garbage collector is a separate component that periodically runs to identify and reclaim memory occupied by objects involved in circular references.\n",
        "It uses a generational approach, checking newer objects more frequently for garbage collection than older ones, optimizing the process.\n",
        "Implications for Developers:\n",
        "Automatic Management: Python's automatic memory management simplifies development as programmers do not typically need to manually allocate or deallocate memory.\n",
        "Focus on Logic: This allows developers to focus more on the program's logic and functionality rather than low-level memory handling.\n",
        "Performance Considerations: While largely efficient, understanding how memory management works can help in writing more memory-efficient code, especially in performance-critical applications. For example, avoiding unnecessary object creation or managing large data structures can impact performance.\n",
        "\n",
        "12. What are the basic steps involved in exception handling in Python?\n",
        "    - Exception handling in Python primarily involves the use of try, except, else, and finally blocks to manage and respond to errors that occur during program execution.\n",
        "Here are the basic steps involved: Identify potentially problematic code.\n",
        "Enclose the code that might raise an exception within a try block. This block is where you place statements that could lead to errors, such as user input, file operations, or network communication.\n",
        "    Catch and handle specific exceptions.\n",
        "Immediately following the try block, use one or more except blocks to catch and handle specific types of exceptions that might occur. You can specify the type of exception you want to catch.\n",
        "    Handle any other exceptions (optional).\n",
        "You can include a generic except block without specifying an exception type to catch any other unhandled exceptions. This should generally be used with caution, as it can mask unexpected errors.\n",
        "    Execute code if no exception occurs (optional):\n",
        "An else block can be included after the except blocks. The code within the else block will execute only if no exception was raised within the try block.\n",
        "    Execute cleanup code (optional).\n",
        "A finally block can be included after all other blocks. The code within the finally block will always execute, regardless of whether an exception occurred or not. This is useful for cleanup operations like closing files or releasing resources.\n",
        "\n",
        "13. Why is memory management important in Python?\n",
        "    - Memory management is important in Python for several reasons, despite its automatic nature:\n",
        "Performance Optimization: Understanding how Python manages memory (e.g., reference counting, garbage collection) allows developers to write more efficient code. This is particularly crucial in resource-intensive applications, such as those in data science or AI, where large datasets or complex computations can quickly consume significant memory. Efficient memory usage leads to faster processing and reduced resource consumption.\n",
        "Preventing Memory Leaks: While Python's garbage collector handles automatic deallocation, improper code can still lead to memory leaks. For example, circular references that aren't properly broken can prevent objects from being garbage collected, causing memory usage to continuously increase. Knowledge of memory management helps in identifying and resolving such issues.\n",
        "Debugging and Troubleshooting: When a Python program exhibits slow performance or unexpected memory growth, an understanding of memory management provides the tools to diagnose the problem. It helps in pinpointing why a program consumes excessive memory or why memory usage escalates over time, facilitating effective debugging.\n",
        "Resource Utilization: Efficient memory management ensures that applications utilize available memory optimally. This prevents situations where a program consumes more memory than necessary, potentially impacting other processes or even leading to system instability, especially in environments with limited resources.\n",
        "Scalability: For large-scale applications, efficient memory handling is essential for scalability. Understanding how Python allocates and deallocates memory allows developers to design systems that can handle increasing workloads without encountering memory-related bottlenecks.\n",
        "In essence, while Python abstracts away much of the manual memory management, a conceptual understanding of its mechanisms empowers developers to write robust, efficient, and scalable applications by optimizing resource usage and preventing common memory-related issues.\n",
        "\n",
        "14. What is the role of try and except in exception handling?\n",
        "    - The try and except blocks play a crucial role in exception handling by providing a structured mechanism to manage potential errors and prevent program crashes.\n",
        "Role of try:\n",
        "The try block encloses the code that is anticipated to potentially raise an exception. It serves as a designated area where the program attempts to execute a set of statements that might lead to an error. If no exception occurs within the try block, the code executes normally.\n",
        "Role of except:\n",
        "The except block immediately follows the try block and specifies how to handle a particular type of exception that might be raised within the try block. When an exception occurs in the try block, the program execution immediately jumps to the corresponding except block that is designed to handle that specific exception type. This allows for graceful error recovery and prevents the program from terminating unexpectedly.\n",
        "In essence:\n",
        "The try block \"tries\" to execute code that might fail.\n",
        "The except block \"catches\" and handles the error if the code within the try block fails.\n",
        "This mechanism ensures that even in the presence of unexpected errors, the program can continue its execution in a controlled manner, potentially providing informative error messages to the user or taking corrective actions. Multiple except blocks can be used to handle different types of exceptions, allowing for more specific and robust error management.\n",
        "\n",
        "15.  How does Python's garbage collection system work?\n",
        "     - Python's garbage collection system primarily employs two mechanisms: reference counting and a cyclic garbage collector.\n",
        "     1. Reference Counting:\n",
        "Mechanism: Python maintains a reference count for every object in memory. This count represents the number of references (variables, container elements, etc.) pointing to that object.\n",
        "Operation:\n",
        "When an object is created or a new reference is made to it, its reference count increases.\n",
        "When a reference goes out of scope, is explicitly deleted, or re-assigned, the reference count decreases.\n",
        "When an object's reference count drops to zero, it signifies that the object is no longer accessible by any part of the program. The memory occupied by this object is then immediately deallocated and reclaimed.\n",
        "Advantages: Simple, efficient for most cases, and objects are deallocated promptly.\n",
        "      2. Cyclic Garbage Collector (Generational Collector):\n",
        "Purpose: Reference counting alone cannot handle circular references, where two or more objects refer to each other, forming a cycle, even if they are no longer reachable from the main program. The cyclic garbage collector addresses this.\n",
        "Mechanism: It operates in generations to optimize performance. Objects are categorized into three generations (0, 1, and 2) based on their \"age\" or how long they have survived previous collections.\n",
        "Operation:\n",
        "Generation 0: Contains newly created objects. It is collected most frequently.\n",
        "Generation 1: Contains objects that survived a collection in Generation 0. It is collected less frequently than Generation 0.\n",
        "Generation 2: Contains objects that survived a collection in Generation 1. It is collected least frequently.\n",
        "Cycle Detection: The collector periodically scans for cycles among container objects (like lists, dictionaries, etc.) that have uncollectable reference counts due to circular references.\n",
        "Collection: Once cycles are identified and determined to be unreachable from the root set of active objects, the memory associated with these cyclic references is reclaimed.\n",
        "Advantages: Effectively handles circular references, and the generational approach optimizes performance by focusing collection efforts on younger, more likely to be short-lived objects.\n",
        "In summary: Python's garbage collection combines the immediate deallocation of reference counting for most objects with a more sophisticated generational cyclic collector to handle complex scenarios like circular references, ensuring efficient memory management.\n",
        "\n",
        "16. What is the purpose of the else block in exception handling?\n",
        "    - The else block in exception handling, commonly found in languages like Python, serves a specific purpose: it executes a block of code only if no exceptions are raised within the preceding try block.\n",
        "This provides a clear distinction between code that should run when an operation is successful and code that handles errors.\n",
        "Here's why the else block is useful:\n",
        "Separation of Concerns: It allows you to separate the code that might cause an exception (in the try block) from the code that depends on the successful completion of the try block (in the else block). This improves code readability and maintainability.\n",
        "Preventing Accidental Exception Handling: By placing success-dependent code in the else block, you ensure that except blocks won't accidentally catch exceptions raised by this \"success\" code. The except blocks are solely focused on handling errors from the try block.\n",
        "Clearer Program Flow: It makes the intended program flow more explicit. If the try block completes without issues, the else block runs; otherwise, an except block handles the error.\n",
        "\n",
        "17. What are the common logging levels in Python?\n",
        "    - 1. Notset = 0: This is the initial default setting of a log when it is created. ...\n",
        "    2. Debug = 10: This level gives detailed information, useful only when a problem is being diagnosed.\n",
        "   3. Info = 20: This is used to confirm that everything is working as it should.\n",
        "\n",
        "18. What is the difference between os.fork() and multiprocessing in Python?\n",
        "    - The os.fork() function and the multiprocessing module in Python both enable the creation of new processes, but they differ significantly in their level of abstraction, portability, and how they handle process state.\n",
        "    1. Level of Abstraction and Portability:\n",
        "os.fork(): This is a low-level, operating system-specific system call available only on Unix-like systems (Linux, macOS). It directly creates a child process that is an exact duplicate of the parent process at the time of the call, including its memory space, file descriptors, and other resources.\n",
        "multiprocessing module: This is a higher-level, cross-platform module in Python's standard library. It provides an API for creating and managing processes that works consistently across different operating systems, including Windows where os.fork() is not available. It can use different \"start methods\" for creating new processes, including fork, spawn, and forkserver.\n",
        "    2. Process Creation and State Handling:\n",
        "os.fork(): When os.fork() is called, the child process inherits a copy of the parent's entire memory space. Both processes then continue execution from the point of the fork() call. This means that any data structures or variables initialized before the fork() call will be present in both the parent and child processes, though they are separate copies.\n",
        "multiprocessing module (with spawn or forkserver methods): When using spawn or forkserver, a new Python interpreter is started for the child process, and only the necessary objects are explicitly passed to it. This ensures a clean slate for the child process and avoids potential issues with inherited state that might not be suitable for concurrent execution. The fork method, when available, behaves similarly to os.fork().\n",
        "   3. Inter-Process Communication (IPC):\n",
        "os.fork(): Sharing data between processes created with os.fork() can be more complex, often requiring explicit mechanisms like shared memory or pipes if the data needs to be modified and seen by both processes after the fork.\n",
        "multiprocessing module: This module provides built-in, high-level tools for IPC, such as Queues, Pipes, and Value/Array for shared memory, making it easier to manage data exchange between processes.\n",
        "In summary:\n",
        "Use os.fork() when you need fine-grained control over process creation on Unix-like systems and are comfortable managing the complexities of inherited state and IPC manually.\n",
        "Use the multiprocessing module for a more portable, higher-level, and generally safer way to achieve parallelism in Python, especially when dealing with complex data sharing or when portability across operating systems is a requirement. The multiprocessing module abstracts away many of the low-level details, providing a more user-friendly interface for concurrent programming.\n",
        "\n",
        "19. What is the importance of closing a file in Python?\n",
        "    - Closing a file in Python after completing operations is crucial for several reasons:\n",
        "Data Integrity and Persistence: When writing to a file, data is often buffered in memory before being physically written to the disk. Closing the file explicitly ensures that all buffered data is \"flushed\" and written to the file, preventing data loss or corruption in case of program termination or system issues.\n",
        "Resource Management: Files are system resources managed by the operating system. Keeping files open unnecessarily consumes these resources, including memory and file handles. Operating systems have limits on the number of open files a process can maintain. Failing to close files can lead to resource exhaustion, impacting application performance or even causing crashes due to an inability to open new files or other resources.\n",
        "Preventing Data Corruption and Conflicts: If a file remains open, other programs or processes might be prevented from accessing or modifying it, potentially leading to errors or data corruption if multiple entities attempt to interact with the file simultaneously. Closing the file releases the lock and allows other operations to proceed without conflict.\n",
        "Good Programming Practice: Explicitly closing files demonstrates responsible resource management and makes code more robust and predictable. While Python's garbage collector might eventually close files when their reference count drops to zero, relying on this implicit behavior is not recommended for critical operations or in scenarios where timely resource release is essential.\n",
        "\n",
        "20. What is the difference between file.read() and file.readline() in Python?\n",
        "    - In Python, file.read() and file.readline() are both methods used to read data from a file, but they differ in the amount of data they retrieve:\n",
        "file.read():\n",
        "Reads the entire content of the file and returns it as a single string.\n",
        "Optionally, it can take an integer argument size to specify the number of characters (or bytes, depending on the file's mode and encoding) to read from the current position. If size is omitted or negative, it reads the entire file.\n",
        "Key Differences Summarized:\n",
        "Scope: read() reads the entire file (or a specified number of characters), while readline() reads a single line.\n",
        "Return Value: read() returns a single string containing all the content, while readline() returns a string representing one line of the file.\n",
        "Memory Usage: For large files, read() can be memory-intensive as it loads the entire file into memory. readline() is more memory-efficient as it processes the file line by line.\n",
        "Control: read() offers control over the number of characters to read, while readline() focuses on line-by-line reading.\n",
        "\n",
        "21. What is the logging module in Python used for?\n",
        "    - The logging module in Python is a built-in standard library module that provides a flexible and powerful framework for emitting log messages from Python programs. It is used to record events that occur during the execution of an application, providing valuable insights for debugging, monitoring, and analysis.\n",
        "Here's a breakdown of its key uses:\n",
        "Debugging: Instead of using print() statements for debugging, logging allows you to emit messages with different severity levels (e.g., DEBUG, INFO, WARNING, ERROR, CRITICAL). This enables you to control which messages are displayed based on the configured log level, making it easier to filter out irrelevant information during debugging.\n",
        "Monitoring Applications: In production environments, logging helps monitor the health and performance of applications. You can configure loggers to capture specific events, errors, or performance metrics, and then route these logs to files, databases, or external logging services for analysis and alerting.\n",
        "Auditing and Analysis: logging can be used to record events for audit trails or later analysis. This includes tracking user actions, system events, or data changes, which can be crucial for security, compliance, or understanding application usage patterns.\n",
        "Structured Logging: The logging module allows for structured logging, where log messages can include not only a descriptive string but also additional data in a structured format (e.g., JSON). This makes logs easier to parse and analyze with automated tools.\n",
        "Centralized Log Management: For complex applications with multiple modules or components, logging facilitates centralized log management. You can configure different loggers for different parts of your application and route their output to a common destination, simplifying log collection and analysis.\n",
        "Flexible Output Destinations: logging provides various handlers to direct log messages to different destinations, such as the console, files, email, network sockets, or even custom handlers for integration with other systems.\n",
        "Configuration Control: The logging module offers extensive configuration options, allowing you to control log levels, message formats, handlers, and filters, providing fine-grained control over how logs are generated and processed.\n",
        "\n",
        "22. What is the os module in Python used for in file handling?\n",
        "    - The os module in Python provides a way to interact with the operating system, offering a wide range of functions for file and directory manipulation. It acts as a bridge between your Python program and the underlying file system, allowing you to perform various file handling tasks in a platform-independent manner.\n",
        "Here's how the os module is used in file handling:\n",
        "File and Directory Creation/Deletion:\n",
        "os.mkdir(): Creates a new directory.\n",
        "os.makedirs(): Creates directories recursively.\n",
        "os.remove(): Deletes a specific file.\n",
        "os.rmdir(): Deletes an empty directory.\n",
        "os.removedirs(): Deletes directories recursively.\n",
        "File and Directory Renaming/Moving:\n",
        "os.rename(): Renames a file or directory.\n",
        "os.replace(): Renames a file or directory, replacing the destination if it exists.\n",
        "Path Manipulation:\n",
        "os.path.join(): Constructs a path by joining multiple path components intelligently, handling platform-specific separators.\n",
        "os.path.abspath(): Returns the absolute path of a given path.\n",
        "os.path.exists(): Checks if a path (file or directory) exists.\n",
        "os.path.isfile(): Checks if a path refers to a regular file.\n",
        "os.path.isdir(): Checks if a path refers to a directory.\n",
        "os.path.split(): Splits a path into a head (directory path) and a tail (filename).\n",
        "Current Working Directory Management:\n",
        "os.getcwd(): Returns the current working directory.\n",
        "os.chdir(): Changes the current working directory.\n",
        "Listing Directory Contents:\n",
        "os.listdir(): Returns a list of all files and directories within a specified path.\n",
        "File Permissions and Metadata:\n",
        "os.stat(): Returns status information about a file or directory, including size, modification time, and permissions.\n",
        "os.chmod(): Changes the permissions of a file or directory.\n",
        "By using the os module, you can write Python code that interacts with the file system in a robust and portable way, as it abstracts away the differences between operating systems like Windows, macOS, and Linux.\n",
        "\n",
        "23. What are the challenges associated with memory management in Python?\n",
        "    - Python's automatic memory management, while simplifying development, presents several challenges:\n",
        "Memory Leaks (especially with cyclic references): Although Python's garbage collector uses reference counting to deallocate objects when their reference count drops to zero, it struggles with cyclic references. If objects form a cycle where they refer to each other, their reference counts may never reach zero, preventing the garbage collector from freeing the memory. Python employs a separate cycle detector to address this, but it can still be a source of memory leaks if not managed carefully.\n",
        "Memory Bloat and Fragmentation: Python's private heap can experience memory bloat if applications hold onto large objects or data structures unnecessarily. Over time, the allocation and deallocation of memory blocks can lead to fragmentation within the heap, where free memory is scattered in small, non-contiguous blocks, potentially impacting performance for larger allocations.\n",
        "Performance Overhead of Garbage Collection: While automatic, garbage collection does incur a performance cost. The cycle detector, in particular, needs to run periodically, which can introduce pauses or slowdowns, especially in performance-critical applications or when dealing with a large number of objects.\n",
        "Limited Control over Memory Allocation: Unlike languages like C or C++, Python provides limited direct control over memory allocation and deallocation. Developers cannot manually free memory or precisely manage memory layout, which can be a challenge when optimizing for extreme memory efficiency or specific hardware constraints.\n",
        "Impact of Global Interpreter Lock (GIL): The GIL, while ensuring thread safety for shared memory operations in CPython, can restrict true parallel execution of CPU-bound tasks in multi-threaded Python programs. This can indirectly affect memory usage and performance in concurrent applications, as only one thread can execute Python bytecode at a time, potentially leading to inefficient resource utilization.\n",
        "Choosing Efficient Data Structures: The choice of data structures significantly impacts memory usage. Using an inefficient data structure for a given task can lead to higher memory consumption than necessary, even with Python's automatic memory management.\n",
        "Managing External Resources: Python's garbage collection primarily handles memory. However, applications often interact with external resources like file handles, network sockets, or database connections. These resources require explicit management to be released promptly, even if the Python objects referencing them are garbage collected. Failure to do so can lead to resource leaks.\n",
        "\n",
        "24.  How do you raise an exception manually in Python?\n",
        "     - To raise an exception manually in Python, use the raise keyword. This allows you to explicitly trigger an error at a specific point in your code.\n",
        "Here's how to do it:\n",
        "     1. Raising a Built-in Exception:\n",
        "You can raise any of Python's built-in exception types, such as ValueError, TypeError, ZeroDivisionError, or Exception.\n",
        "     2. Raising a Custom Exception:\n",
        "You can define your own custom exception classes by inheriting from the Exception class (or a more specific built-in exception). This provides more descriptive and application-specific error handling.\n",
        "     Key Points:\n",
        "The raise keyword immediately stops the normal execution flow and raises the specified exception.\n",
        "You can include an optional error message string when raising an exception, which provides more context about the error.\n",
        "Exceptions should be handled using try...except blocks to prevent program termination and implement appropriate error recovery or reporting.\n",
        "\n",
        "25. Why is it important to use multithreading in certain applications?\n",
        "    - Multithreading is important in certain applications to improve performance and responsiveness by allowing simultaneous execution of tasks, maximize resource utilization by taking advantage of multi-core processors, enhance scalability for growing workloads, and enable asynchronous processing for I/O-bound operations. This prevents applications from freezing, reduces delays, and efficiently utilizes system resources by breaking complex tasks into lighter-weight threads that share a single process's memory.\n",
        "Here's a breakdown of why multithreading is crucial in specific scenarios:\n",
        "Improved Responsiveness:\n",
        "Prevents Freezing: Applications can become unresponsive when waiting for a long-running task, such as a network request or file operation. Multithreading allows these tasks to be run on background threads, keeping the main application interface responsive.\n",
        "Real-time Processing: For applications needing immediate attention, like a web server handling many client requests, multithreading ensures that one request doesn't block others, maintaining smooth performance.\n",
        "Enhanced Performance & Scalability:\n",
        "Leveraging Multi-Core Processors: With multiple CPU cores available, multithreading allows individual tasks to be executed in parallel on different cores, leading to significant performance gains.\n",
        "Scalable Workloads: As the number of users or tasks increases, multithreaded applications can scale by distributing the workload across available processing power, preventing slowdowns.\n",
        "Efficient Resource Utilization:\n",
        "Lower Overhead: Threads are lighter than processes; they share the same memory space and resources within a parent process, consuming less system memory and reducing the overhead of creating and managing them.\n",
        "Resource Sharing: Threads within a single process can share data, memory, and files, which simplifies development and facilitates communication between different parts of the application.\n",
        "Asynchronous Operations:\n",
        "I/O and Network-Bound Tasks: Multithreading is ideal for tasks that spend a lot of time waiting for external resources, such as downloading content from the internet or reading from a database. These I/O-bound tasks can run in separate threads, allowing the main application to continue with other operations.\n",
        "When to Use Multithreading:\n",
        "Multithreading is particularly beneficial for applications that:\n",
        "Require high responsiveness, like Graphical User Interfaces (GUIs).\n",
        "Handle multiple network requests or user connections, such as web servers.\n",
        "Involve significant I/O operations, like web scraping or file processing.\n",
        "Benefit from parallel execution of independent tasks within a single program."
      ],
      "metadata": {
        "id": "EcwW0rC8mkKf"
      }
    },
    {
      "cell_type": "code",
      "source": [
        "#How can you open a file for writing in Python and write a string to it?\n",
        "# Open a file named \"my_file.txt\" in write mode ('w')\n",
        "# If the file exists, its contents will be overwritten. If it doesn't exist, a new file will be created.\n",
        "with open(\"my_file.txt\", \"w\") as file:\n",
        "    # Write a string to the file\n",
        "    file.write(\"This is the first line of text.\\n\")\n",
        "    file.write(\"This is the second line.\")\n",
        "\n",
        "print(\"String successfully written to my_file.txt\")\n"
      ],
      "metadata": {
        "colab": {
          "base_uri": "https://localhost:8080/"
        },
        "id": "7LShDuhz_52_",
        "outputId": "95311459-72a8-49e0-e0f8-a8439a8d2de4"
      },
      "execution_count": 6,
      "outputs": [
        {
          "output_type": "stream",
          "name": "stdout",
          "text": [
            "String successfully written to my_file.txt\n"
          ]
        }
      ]
    },
    {
      "cell_type": "code",
      "source": [
        "#Write a Python program to read the contents of a file and print each line\n",
        "# File path (change 'example.txt' to your file name)\n",
        "filename = 'example.txt'\n",
        "\n",
        "# Open the file and read each line\n",
        "with open(filename, 'r') as file:\n",
        "    for line in file:\n",
        "        print(line, end='')  # end='' prevents double newlines\n"
      ],
      "metadata": {
        "colab": {
          "base_uri": "https://localhost:8080/"
        },
        "id": "G0wayGWfBIzu",
        "outputId": "e93db7c8-22f4-479e-f6c0-96cfac047069"
      },
      "execution_count": 7,
      "outputs": [
        {
          "output_type": "stream",
          "name": "stdout",
          "text": [
            "Hello, world!"
          ]
        }
      ]
    },
    {
      "cell_type": "code",
      "source": [
        "#How would you handle a case where the file doesn't exist while trying to open it for reading\n",
        "import os\n",
        "\n",
        "file_path = \"file.txt\"\n",
        "if os.path.exists(file_path):\n",
        "    with open(file_path, 'r') as file:\n",
        "        content = file.read()\n",
        "        print(content)\n",
        "else:\n",
        "    print(f\"Error: The file '{file_path}' does not exist.\")\n"
      ],
      "metadata": {
        "colab": {
          "base_uri": "https://localhost:8080/"
        },
        "id": "PkzDMhbKBeXr",
        "outputId": "32f981d0-fe3f-4689-c704-13475cf59ffa"
      },
      "execution_count": 9,
      "outputs": [
        {
          "output_type": "stream",
          "name": "stdout",
          "text": [
            "Error: The file 'file.txt' does not exist.\n"
          ]
        }
      ]
    },
    {
      "cell_type": "code",
      "source": [
        "#Write a Python script that reads from one file and writes its content to another file.\n",
        "def copy_file_content(source_file_path, destination_file_path):\n",
        "    \"\"\"\n",
        "    Reads the content of a source file and writes it to a destination file.\n",
        "\n",
        "    Args:\n",
        "        source_file_path (str): The path to the file to read from.\n",
        "        destination_file_path (str): The path to the file to write to.\n",
        "    \"\"\"\n",
        "    try:\n",
        "        with open(source_file_path, 'r') as source_file:\n",
        "            content = source_file.read()\n",
        "\n",
        "        with open(destination_file_path, 'w') as destination_file:\n",
        "            destination_file.write(content)\n",
        "\n",
        "        print(f\"Content successfully copied from '{source_file_path}' to '{destination_file_path}'.\")\n",
        "\n",
        "    except FileNotFoundError:\n",
        "        print(f\"Error: One of the files was not found. Please check the paths.\")\n",
        "    except Exception as e:\n",
        "        print(f\"An error occurred: {e}\")\n",
        "\n",
        "if __name__ == \"__main__\":\n",
        "    # Example usage:\n",
        "    # Create a dummy source file for demonstration\n",
        "    with open(\"source.txt\", \"w\") as f:\n",
        "        f.write(\"This is some content from the source file.\\n\")\n",
        "        f.write(\"It has multiple lines.\\n\")\n",
        "\n",
        "    source_file = \"source.txt\"\n",
        "    destination_file = \"destination.txt\"\n",
        "\n",
        "    copy_file_content(source_file, destination_file)\n",
        "\n",
        "    # Verify the content of the destination file\n",
        "    try:\n",
        "        with open(destination_file, 'r') as f:\n",
        "            print(\"\\nContent of the destination file:\")\n",
        "            print(f.read())\n",
        "    except FileNotFoundError:\n",
        "        print(f\"Error: Destination file '{destination_file}' not found for verification.\")"
      ],
      "metadata": {
        "colab": {
          "base_uri": "https://localhost:8080/"
        },
        "id": "nlYO97mbCBRa",
        "outputId": "bbd40c2c-342d-4771-a5d9-4c4a0726becc"
      },
      "execution_count": 10,
      "outputs": [
        {
          "output_type": "stream",
          "name": "stdout",
          "text": [
            "Content successfully copied from 'source.txt' to 'destination.txt'.\n",
            "\n",
            "Content of the destination file:\n",
            "This is some content from the source file.\n",
            "It has multiple lines.\n",
            "\n"
          ]
        }
      ]
    },
    {
      "cell_type": "code",
      "source": [
        "#How would you catch and handle division by zero error in Python?\n",
        "try:\n",
        "    numerator = 10\n",
        "    denominator = 0\n",
        "    result = numerator / denominator\n",
        "    print(f\"The result is: {result}\")\n",
        "except ZeroDivisionError:\n",
        "    print(\"Error: Cannot divide by zero!\")\n",
        "    # Optionally, assign a default value or take other recovery actions\n",
        "    result = None\n",
        "    print(f\"Result set to: {result}\")"
      ],
      "metadata": {
        "colab": {
          "base_uri": "https://localhost:8080/"
        },
        "id": "KL5by_MFCN5A",
        "outputId": "03d3af4a-b96e-4605-a7fa-55d5e4cf9ba2"
      },
      "execution_count": 11,
      "outputs": [
        {
          "output_type": "stream",
          "name": "stdout",
          "text": [
            "Error: Cannot divide by zero!\n",
            "Result set to: None\n"
          ]
        }
      ]
    },
    {
      "cell_type": "code",
      "source": [
        "#Write a Python program that logs an error message to a log file when a division by zero exception occurs.\n",
        "import logging\n",
        "\n",
        "# Configure logging\n",
        "# - filename: Specifies the log file name.\n",
        "# - level: Sets the minimum logging level to capture (ERROR in this case).\n",
        "# - format: Defines the format of the log messages, including timestamp, level, and message.\n",
        "logging.basicConfig(filename='division_error.log', level=logging.ERROR,\n",
        "                    format='%(asctime)s - %(levelname)s - %(message)s')\n",
        "\n",
        "def divide_numbers(numerator, denominator):\n",
        "    \"\"\"\n",
        "    Attempts to divide two numbers and logs a ZeroDivisionError if it occurs.\n",
        "    \"\"\"\n",
        "    try:\n",
        "        result = numerator / denominator\n",
        "        print(f\"The result of {numerator} / {denominator} is: {result}\")\n",
        "        return result\n",
        "    except ZeroDivisionError as e:\n",
        "        error_message = f\"Attempted to divide {numerator} by zero. Error: {e}\"\n",
        "        logging.error(error_message)\n",
        "        print(f\"Error: {error_message}. Check 'division_error.log' for details.\")\n",
        "        return None\n",
        "\n",
        "# Test cases\n",
        "divide_numbers(10, 2)\n",
        "divide_numbers(10, 0)\n",
        "divide_numbers(5, 5)\n",
        "divide_numbers(7, 0)"
      ],
      "metadata": {
        "colab": {
          "base_uri": "https://localhost:8080/"
        },
        "id": "JQTw5FORCX5e",
        "outputId": "a5f16b58-1e80-4e6f-bacc-c0f4aa5d0315"
      },
      "execution_count": 12,
      "outputs": [
        {
          "output_type": "stream",
          "name": "stderr",
          "text": [
            "ERROR:root:Attempted to divide 10 by zero. Error: division by zero\n",
            "ERROR:root:Attempted to divide 7 by zero. Error: division by zero\n"
          ]
        },
        {
          "output_type": "stream",
          "name": "stdout",
          "text": [
            "The result of 10 / 2 is: 5.0\n",
            "Error: Attempted to divide 10 by zero. Error: division by zero. Check 'division_error.log' for details.\n",
            "The result of 5 / 5 is: 1.0\n",
            "Error: Attempted to divide 7 by zero. Error: division by zero. Check 'division_error.log' for details.\n"
          ]
        }
      ]
    },
    {
      "cell_type": "code",
      "source": [
        "#How do you log information at different levels (INFO, ERROR, WARNING) in Python using the logging module?\n",
        "import logging\n",
        "\n",
        "# Configure logging\n",
        "logging.basicConfig(level=logging.DEBUG, format='%(levelname)s: %(message)s')\n",
        "\n",
        "# Log messages at different levels\n",
        "logging.debug(\"This is a DEBUG message\")\n",
        "logging.info(\"This is an INFO message\")\n",
        "logging.warning(\"This is a WARNING message\")\n",
        "logging.error(\"This is an ERROR message\")\n",
        "logging.critical(\"This is a CRITICAL message\")\n"
      ],
      "metadata": {
        "colab": {
          "base_uri": "https://localhost:8080/"
        },
        "id": "Bo2_c0MCCjaW",
        "outputId": "52ab671d-ed7d-43d9-a06e-4c2ac09eeb14"
      },
      "execution_count": 13,
      "outputs": [
        {
          "output_type": "stream",
          "name": "stderr",
          "text": [
            "WARNING:root:This is a WARNING message\n",
            "ERROR:root:This is an ERROR message\n",
            "CRITICAL:root:This is a CRITICAL message\n"
          ]
        }
      ]
    },
    {
      "cell_type": "code",
      "source": [
        "# Write a program to handle a file opening error using exception handling.\n",
        "def open_and_read_file(filename):\n",
        "    \"\"\"\n",
        "    Attempts to open and read a file, handling potential FileNotFoundError\n",
        "    and PermissionError exceptions.\n",
        "    \"\"\"\n",
        "    try:\n",
        "        with open(filename, 'r') as file:\n",
        "            content = file.read()\n",
        "            print(f\"File '{filename}' opened successfully. Content:\\n{content}\")\n",
        "    except FileNotFoundError:\n",
        "        print(f\"Error: The file '{filename}' was not found.\")\n",
        "    except PermissionError:\n",
        "        print(f\"Error: You do not have permission to access '{filename}'.\")\n",
        "    except Exception as e:\n",
        "        print(f\"An unexpected error occurred while opening '{filename}': {e}\")\n",
        "\n",
        "# Example usage:\n",
        "print(\"--- Attempting to open a non-existent file ---\")\n",
        "open_and_read_file(\"non_existent_file.txt\")\n",
        "\n",
        "print(\"\\n--- Attempting to open a file with permission issues (may require specific OS setup) ---\")\n",
        "# On some systems, attempting to open a directory as a file might raise a PermissionError\n",
        "# or another type of OSError.\n",
        "# For a more reliable test of PermissionError, one might need to create a file\n",
        "# and remove read permissions for the current user.\n",
        "open_and_read_file(\"/root/some_restricted_file.txt\") # This path is likely to cause a PermissionError on non-root users\n",
        "\n",
        "print(\"\\n--- Attempting to open an existing file ---\")\n",
        "# Create a dummy file for this example\n",
        "with open(\"existing_file.txt\", \"w\") as f:\n",
        "    f.write(\"This is some content in the existing file.\")\n",
        "open_and_read_file(\"existing_file.txt\")"
      ],
      "metadata": {
        "colab": {
          "base_uri": "https://localhost:8080/"
        },
        "id": "4IDJxBBeDATK",
        "outputId": "6bafc1fd-b422-4665-cc3c-8b6c80920191"
      },
      "execution_count": 14,
      "outputs": [
        {
          "output_type": "stream",
          "name": "stdout",
          "text": [
            "--- Attempting to open a non-existent file ---\n",
            "Error: The file 'non_existent_file.txt' was not found.\n",
            "\n",
            "--- Attempting to open a file with permission issues (may require specific OS setup) ---\n",
            "Error: The file '/root/some_restricted_file.txt' was not found.\n",
            "\n",
            "--- Attempting to open an existing file ---\n",
            "File 'existing_file.txt' opened successfully. Content:\n",
            "This is some content in the existing file.\n"
          ]
        }
      ]
    },
    {
      "cell_type": "code",
      "source": [
        "# How can you read a file line by line and store its content in a list in Python?\n",
        "file_path = \"your_file.txt\"  # Replace with your file's path\n",
        "\n",
        "try:\n",
        "    with open(file_path, 'r') as file:\n",
        "        lines = file.readlines()\n",
        "    # Optional: Remove newline characters if not desired\n",
        "    lines = [line.strip() for line in lines]\n",
        "    print(lines)\n",
        "except FileNotFoundError:\n",
        "    print(f\"Error: The file '{file_path}' was not found.\")\n",
        "except Exception as e:\n",
        "    print(f\"An error occurred: {e}\")"
      ],
      "metadata": {
        "colab": {
          "base_uri": "https://localhost:8080/"
        },
        "id": "dOJ8vtzKDKwJ",
        "outputId": "41eee750-3708-4c21-aeb2-8049b5e04672"
      },
      "execution_count": 15,
      "outputs": [
        {
          "output_type": "stream",
          "name": "stdout",
          "text": [
            "Error: The file 'your_file.txt' was not found.\n"
          ]
        }
      ]
    },
    {
      "cell_type": "code",
      "source": [
        "#  How can you append data to an existing file in Python?\n",
        "with open('example.txt', 'a+') as file:\n",
        "    file.write(\"Another line.\\n\")\n",
        "    file.seek(0)  # Go back to the beginning to read\n",
        "    content = file.read()\n",
        "    print(content)\n"
      ],
      "metadata": {
        "colab": {
          "base_uri": "https://localhost:8080/"
        },
        "id": "9HfmlZBqDZyk",
        "outputId": "40c681fd-1ea5-4169-96b1-3b8f6feeab9e"
      },
      "execution_count": 16,
      "outputs": [
        {
          "output_type": "stream",
          "name": "stdout",
          "text": [
            "Hello, world!Another line.\n",
            "\n"
          ]
        }
      ]
    },
    {
      "cell_type": "code",
      "source": [
        "# Write a Python program that uses a try-except block to handle an error when attempting to access a\n",
        "dictionary key that doesn't exist.\n",
        "def access_dictionary_key(my_dict, key_to_find):\n",
        "    \"\"\"\n",
        "    Attempts to access a dictionary key and handles KeyError if the key doesn't exist.\n",
        "\n",
        "    Args:\n",
        "        my_dict (dict): The dictionary to search within.\n",
        "        key_to_find: The key to attempt to access.\n",
        "    \"\"\"\n",
        "    try:\n",
        "        value = my_dict[key_to_find]\n",
        "        print(f\"The value for key '{key_to_find}' is: {value}\")\n",
        "    except KeyError:\n",
        "        print(f\"Error: The key '{key_to_find}' does not exist in the dictionary.\")\n",
        "\n",
        "# Example Usage:\n",
        "data = {\n",
        "    \"name\": \"Alice\",\n",
        "    \"age\": 30,\n",
        "    \"city\": \"New York\"\n",
        "}\n",
        "\n",
        "# Attempt to access an existing key\n",
        "access_dictionary_key(data, \"name\")\n",
        "\n",
        "# Attempt to access a non-existent key\n",
        "access_dictionary_key(data, \"occupation\")\n",
        "\n",
        "# Another example with a different dictionary\n",
        "settings = {\n",
        "    \"theme\": \"dark\",\n",
        "    \"notifications\": True\n",
        "}\n",
        "\n",
        "access_dictionary_key(settings, \"theme\")\n",
        "access_dictionary_key(settings, \"language\")"
      ],
      "metadata": {
        "colab": {
          "base_uri": "https://localhost:8080/",
          "height": 106
        },
        "id": "TZA_MPlEDxWx",
        "outputId": "e706eaa4-4021-4015-cce1-f0964e5b847c"
      },
      "execution_count": 23,
      "outputs": [
        {
          "output_type": "error",
          "ename": "SyntaxError",
          "evalue": "unterminated string literal (detected at line 2) (ipython-input-3815177001.py, line 2)",
          "traceback": [
            "\u001b[0;36m  File \u001b[0;32m\"/tmp/ipython-input-3815177001.py\"\u001b[0;36m, line \u001b[0;32m2\u001b[0m\n\u001b[0;31m    dictionary key that doesn't exist.\u001b[0m\n\u001b[0m                             ^\u001b[0m\n\u001b[0;31mSyntaxError\u001b[0m\u001b[0;31m:\u001b[0m unterminated string literal (detected at line 2)\n"
          ]
        }
      ]
    },
    {
      "cell_type": "code",
      "source": [
        "# Write a program that demonstrates using multiple except blocks to handle different types of exceptions.\n",
        "try:\n",
        "    # Input from user\n",
        "    num = int(input(\"Enter a number: \"))\n",
        "\n",
        "    # Division operation\n",
        "    result = 10 / num\n",
        "\n",
        "    # Accessing a dictionary key\n",
        "    data = {'name': 'Alice'}\n",
        "    print(\"Age:\", data['age'])  # KeyError\n",
        "\n",
        "except ValueError:\n",
        "    print(\"Error: Invalid input. Please enter a valid integer.\")\n",
        "\n",
        "except ZeroDivisionError:\n",
        "    print(\"Error: Division by zero is not allowed.\")\n",
        "\n",
        "except KeyError as e:\n",
        "    print(f\"Error: The key '{e.args[0]}' was not found in the dictionary.\")\n",
        "\n",
        "except Exception as e:\n",
        "    # Generic exception handler for any unexpected errors\n",
        "    print(f\"An unexpected error occurred: {e}\")\n"
      ],
      "metadata": {
        "colab": {
          "base_uri": "https://localhost:8080/"
        },
        "id": "iLCrMDqlEmuD",
        "outputId": "b780043b-32bb-45b2-ce29-81f2bd6edad3"
      },
      "execution_count": 24,
      "outputs": [
        {
          "output_type": "stream",
          "name": "stdout",
          "text": [
            "Enter a number: 0\n",
            "Error: Division by zero is not allowed.\n"
          ]
        }
      ]
    },
    {
      "cell_type": "code",
      "source": [
        "# How would you check if a file exists before attempting to read it in Python?\n",
        "import os\n",
        "\n",
        "file_path = \"my_document.txt\"\n",
        "\n",
        "if os.path.isfile(file_path):\n",
        "    try:\n",
        "        with open(file_path, 'r') as f:\n",
        "            content = f.read()\n",
        "            print(\"File content:\")\n",
        "            print(content)\n",
        "    except IOError as e:\n",
        "        print(f\"Error reading file: {e}\")\n",
        "else:\n",
        "    print(f\"The file '{file_path}' does not exist.\")"
      ],
      "metadata": {
        "colab": {
          "base_uri": "https://localhost:8080/"
        },
        "id": "oxSfQ4u5FYVw",
        "outputId": "e4d27263-d5e3-4efa-c8d1-4e3342df5bb1"
      },
      "execution_count": 25,
      "outputs": [
        {
          "output_type": "stream",
          "name": "stdout",
          "text": [
            "The file 'my_document.txt' does not exist.\n"
          ]
        }
      ]
    },
    {
      "cell_type": "code",
      "source": [
        "# Write a program that uses the logging module to log both informational and error messages\n",
        "import logging\n",
        "\n",
        "def setup_logging():\n",
        "    \"\"\"\n",
        "    Configures the logging system to write logs to 'app.log'.\n",
        "    Logs will include timestamps, log level, and the message.\n",
        "    \"\"\"\n",
        "    logging.basicConfig(\n",
        "        filename='app.log',\n",
        "        level=logging.INFO,  # Set the minimum level to capture\n",
        "        format='%(asctime)s - %(levelname)s - %(message)s',\n",
        "        filemode='w' # Overwrite the log file each time the program runs\n",
        "    )\n",
        "\n",
        "def perform_operation(value):\n",
        "    \"\"\"\n",
        "    Simulates an operation that might succeed or fail, logging accordingly.\n",
        "    \"\"\"\n",
        "    try:\n",
        "        if value < 0:\n",
        "            raise ValueError(\"Value cannot be negative\")\n",
        "        result = 10 / value\n",
        "        logging.info(f\"Operation successful: 10 / {value} = {result}\")\n",
        "        return result\n",
        "    except ValueError as e:\n",
        "        logging.error(f\"Operation failed due to invalid input: {e}\")\n",
        "        return None\n",
        "    except ZeroDivisionError:\n",
        "        logging.error(\"Operation failed: Division by zero attempted\")\n",
        "        return None\n",
        "    except Exception as e:\n",
        "        logging.error(f\"An unexpected error occurred: {e}\")\n",
        "        return None\n",
        "\n",
        "if __name__ == \"__main__\":\n",
        "    setup_logging()\n",
        "\n",
        "    logging.info(\"Application started.\")\n",
        "\n",
        "    # Test cases\n",
        "    perform_operation(5)\n",
        "    perform_operation(0)\n",
        "    perform_operation(-2)\n",
        "    perform_operation(2.5)\n",
        "\n",
        "    logging.info(\"Application finished.\")"
      ],
      "metadata": {
        "colab": {
          "base_uri": "https://localhost:8080/"
        },
        "id": "iQywifHMGMA2",
        "outputId": "6bbfbb97-2bcd-4d35-e069-bb7838a72e54"
      },
      "execution_count": 26,
      "outputs": [
        {
          "output_type": "stream",
          "name": "stderr",
          "text": [
            "ERROR:root:Operation failed: Division by zero attempted\n",
            "ERROR:root:Operation failed due to invalid input: Value cannot be negative\n"
          ]
        }
      ]
    },
    {
      "cell_type": "code",
      "source": [
        "# Write a Python program that prints the content of a file and handles the case when the file is empty\n",
        "def read_file(filename):\n",
        "    try:\n",
        "        with open(filename, 'r') as file:\n",
        "            content = file.read()\n",
        "\n",
        "            if content.strip() == \"\":\n",
        "                print(f\"The file '{filename}' is empty.\")\n",
        "            else:\n",
        "                print(f\"Contents of '{filename}':\\n\")\n",
        "                print(content)\n",
        "\n",
        "    except FileNotFoundError:\n",
        "        print(f\"Error: The file '{filename}' was not found.\")\n",
        "    except OSError as e:\n",
        "        print(f\"An error occurred while reading the file: {e}\")\n",
        "\n",
        "# Replace 'example.txt' with your file name\n",
        "read_file('example.txt')\n"
      ],
      "metadata": {
        "colab": {
          "base_uri": "https://localhost:8080/"
        },
        "id": "I1Km4-uMGfH5",
        "outputId": "1858b2c9-c411-44a0-8558-68b90d1650d5"
      },
      "execution_count": 27,
      "outputs": [
        {
          "output_type": "stream",
          "name": "stdout",
          "text": [
            "Contents of 'example.txt':\n",
            "\n",
            "Hello, world!Another line.\n",
            "\n"
          ]
        }
      ]
    },
    {
      "cell_type": "code",
      "source": [
        "# Demonstrate how to use memory profiling to check the memory usage of a small program\n",
        "# def create_list():\n",
        "    big_list = [i for i in range(1000000)]  # Large list\n",
        "    return big_list\n",
        "\n",
        "if __name__ == \"__main__\":\n",
        "    create_list()\n"
      ],
      "metadata": {
        "colab": {
          "base_uri": "https://localhost:8080/",
          "height": 106
        },
        "id": "eguSundQGqDe",
        "outputId": "7b46f5df-3d3c-456f-f770-228786316d6e"
      },
      "execution_count": 33,
      "outputs": [
        {
          "output_type": "error",
          "ename": "IndentationError",
          "evalue": "unexpected indent (ipython-input-1927816593.py, line 3)",
          "traceback": [
            "\u001b[0;36m  File \u001b[0;32m\"/tmp/ipython-input-1927816593.py\"\u001b[0;36m, line \u001b[0;32m3\u001b[0m\n\u001b[0;31m    big_list = [i for i in range(1000000)]  # Large list\u001b[0m\n\u001b[0m    ^\u001b[0m\n\u001b[0;31mIndentationError\u001b[0m\u001b[0;31m:\u001b[0m unexpected indent\n"
          ]
        }
      ]
    },
    {
      "cell_type": "code",
      "source": [
        "# Write a Python program to create and write a list of numbers to a file, one number per line.\n",
        "# List of numbers\n",
        "numbers = [1, 2, 3, 4, 5, 10, 20, 100]\n",
        "\n",
        "# File to write to\n",
        "filename = 'numbers.txt'\n",
        "\n",
        "try:\n",
        "    with open(filename, 'w') as file:\n",
        "        for number in numbers:\n",
        "            file.write(f\"{number}\\n\")\n",
        "    print(f\"Successfully wrote {len(numbers)} numbers to '{filename}'.\")\n",
        "\n",
        "except OSError as e:\n",
        "    print(f\"Error writing to file: {e}\")\n"
      ],
      "metadata": {
        "colab": {
          "base_uri": "https://localhost:8080/"
        },
        "id": "YStz_CcdH0WM",
        "outputId": "dbfc89ee-f6c0-4427-b02f-4d8ef8ad8f22"
      },
      "execution_count": 34,
      "outputs": [
        {
          "output_type": "stream",
          "name": "stdout",
          "text": [
            "Successfully wrote 8 numbers to 'numbers.txt'.\n"
          ]
        }
      ]
    },
    {
      "cell_type": "code",
      "source": [
        "# How would you implement a basic logging setup that logs to a file with rotation after 1MB?\n",
        "import logging\n",
        "from logging.handlers import RotatingFileHandler\n",
        "\n",
        "# Set up logger\n",
        "logger = logging.getLogger('my_logger')\n",
        "logger.setLevel(logging.DEBUG)  # Log all levels DEBUG and above\n",
        "\n",
        "# Create a rotating file handler\n",
        "handler = RotatingFileHandler(\n",
        "    'app.log',       # Log file name\n",
        "    maxBytes=1_000_000,  # 1 MB max size before rotation\n",
        "    backupCount=3    # Keep up to 3 backup files (app.log.1, app.log.2, etc.)\n",
        ")\n",
        "\n",
        "# Create a logging format\n",
        "formatter = logging.Formatter('%(asctime)s - %(levelname)s - %(message)s')\n",
        "handler.setFormatter(formatter)\n",
        "\n",
        "# Add the handler to the logger\n",
        "logger.addHandler(handler)\n",
        "\n",
        "# Example usage\n",
        "logger.info(\"This is an info message.\")\n",
        "logger.error(\"This is an error message.\")\n"
      ],
      "metadata": {
        "colab": {
          "base_uri": "https://localhost:8080/"
        },
        "id": "yZQiiM9KIEqB",
        "outputId": "e3a2bff7-b1a4-40a8-e564-506c08aaef63"
      },
      "execution_count": 35,
      "outputs": [
        {
          "output_type": "stream",
          "name": "stderr",
          "text": [
            "INFO:my_logger:This is an info message.\n",
            "ERROR:my_logger:This is an error message.\n"
          ]
        }
      ]
    },
    {
      "cell_type": "code",
      "source": [
        "# Write a program that handles both IndexError and KeyError using a try-except block.\n",
        "my_list = [10, 20, 30]\n",
        "my_dict = {'a': 1, 'b': 2}\n",
        "\n",
        "try:\n",
        "    # Attempt to access an invalid list index\n",
        "    print(my_list[5])\n",
        "\n",
        "    # Attempt to access a missing dictionary key\n",
        "    print(my_dict['c'])\n",
        "\n",
        "except IndexError:\n",
        "    print(\"Error: Tried to access an index that is out of range.\")\n",
        "\n",
        "except KeyError:\n",
        "    print(\"Error: Tried to access a key that doesn't exist in the dictionary.\")\n"
      ],
      "metadata": {
        "colab": {
          "base_uri": "https://localhost:8080/"
        },
        "id": "y9mo6YWuIPHE",
        "outputId": "e77dd427-5cb6-499e-ae63-7c6a1888fcbd"
      },
      "execution_count": 36,
      "outputs": [
        {
          "output_type": "stream",
          "name": "stdout",
          "text": [
            "Error: Tried to access an index that is out of range.\n"
          ]
        }
      ]
    },
    {
      "cell_type": "code",
      "source": [
        "# How would you open a file and read its contents using a context manager in Python?\n",
        "filename = 'example.txt'\n",
        "\n",
        "with open(filename, 'r') as file:\n",
        "    contents = file.read()\n",
        "\n",
        "print(contents)\n"
      ],
      "metadata": {
        "colab": {
          "base_uri": "https://localhost:8080/"
        },
        "id": "Uvn9c0UgIdNh",
        "outputId": "68eb347d-bc3a-4c53-f158-17971be1d30e"
      },
      "execution_count": 37,
      "outputs": [
        {
          "output_type": "stream",
          "name": "stdout",
          "text": [
            "Hello, world!Another line.\n",
            "\n"
          ]
        }
      ]
    },
    {
      "cell_type": "code",
      "source": [
        "# Write a Python program that reads a file and prints the number of occurrences of a specific word.\n",
        "def count_word_in_file(filename, word):\n",
        "    try:\n",
        "        with open(filename, 'r') as file:\n",
        "            text = file.read().lower()  # Read whole file and convert to lowercase\n",
        "\n",
        "        # Split text into words (simple split by whitespace)\n",
        "        words = text.split()\n",
        "\n",
        "        # Count occurrences of the word (also lowercase)\n",
        "        count = words.count(word.lower())\n",
        "\n",
        "        print(f\"The word '{word}' occurs {count} times in '{filename}'.\")\n",
        "\n",
        "    except FileNotFoundError:\n",
        "        print(f\"Error: The file '{filename}' was not found.\")\n",
        "    except OSError as e:\n",
        "        print(f\"Error reading the file: {e}\")\n",
        "\n",
        "# Example usage\n",
        "count_word_in_file('example.txt', 'python')\n"
      ],
      "metadata": {
        "colab": {
          "base_uri": "https://localhost:8080/"
        },
        "id": "SiK3IVg4ImIl",
        "outputId": "f4cd38c6-8302-4ad1-f933-b35def66c913"
      },
      "execution_count": 38,
      "outputs": [
        {
          "output_type": "stream",
          "name": "stdout",
          "text": [
            "The word 'python' occurs 0 times in 'example.txt'.\n"
          ]
        }
      ]
    },
    {
      "cell_type": "code",
      "source": [
        "# How can you check if a file is empty before attempting to read its contents?\n",
        "import os\n",
        "\n",
        "file_path = \"your_file.txt\"\n",
        "\n",
        "if os.path.exists(file_path):\n",
        "    if os.path.getsize(file_path) == 0:\n",
        "        print(f\"The file '{file_path}' is empty.\")\n",
        "    else:\n",
        "        print(f\"The file '{file_path}' is not empty. Proceeding to read.\")\n",
        "        # Your file reading logic here\n",
        "else:\n",
        "    print(f\"The file '{file_path}' does not exist.\")"
      ],
      "metadata": {
        "colab": {
          "base_uri": "https://localhost:8080/"
        },
        "id": "RbpvUjd5Iukc",
        "outputId": "10968e86-214b-495b-9cfc-05220150bdd1"
      },
      "execution_count": 39,
      "outputs": [
        {
          "output_type": "stream",
          "name": "stdout",
          "text": [
            "The file 'your_file.txt' does not exist.\n"
          ]
        }
      ]
    },
    {
      "cell_type": "code",
      "source": [
        "# Write a Python program that writes to a log file when an error occurs during file handling.\n",
        "import logging\n",
        "\n",
        "# Configure logging to write errors to a file called 'error.log'\n",
        "logging.basicConfig(\n",
        "    filename='error.log',\n",
        "    level=logging.ERROR,\n",
        "    format='%(asctime)s - %(levelname)s - %(message)s'\n",
        ")\n",
        "\n",
        "def read_file(filename):\n",
        "    try:\n",
        "        with open(filename, 'r') as file:\n",
        "            content = file.read()\n",
        "            print(content)\n",
        "    except Exception as e:\n",
        "        # Log the error with traceback\n",
        "        logging.error(f\"Error occurred while handling the file '{filename}': {e}\", exc_info=True)\n",
        "        print(f\"An error occurred. Details have been logged.\")\n",
        "\n",
        "# Example usage\n",
        "read_file('nonexistent_file.txt')\n"
      ],
      "metadata": {
        "colab": {
          "base_uri": "https://localhost:8080/"
        },
        "id": "l6PqK3RrI_dH",
        "outputId": "df3b3bc1-29ea-459f-db44-97b1d45ced96"
      },
      "execution_count": 40,
      "outputs": [
        {
          "output_type": "stream",
          "name": "stderr",
          "text": [
            "ERROR:root:Error occurred while handling the file 'nonexistent_file.txt': [Errno 2] No such file or directory: 'nonexistent_file.txt'\n",
            "Traceback (most recent call last):\n",
            "  File \"/tmp/ipython-input-4112164586.py\", line 13, in read_file\n",
            "    with open(filename, 'r') as file:\n",
            "         ^^^^^^^^^^^^^^^^^^^\n",
            "FileNotFoundError: [Errno 2] No such file or directory: 'nonexistent_file.txt'\n"
          ]
        },
        {
          "output_type": "stream",
          "name": "stdout",
          "text": [
            "An error occurred. Details have been logged.\n"
          ]
        }
      ]
    }
  ]
}